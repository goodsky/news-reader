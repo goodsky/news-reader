{
 "cells": [
  {
   "cell_type": "code",
   "execution_count": null,
   "metadata": {},
   "outputs": [],
   "source": [
    "import feedparser\n",
    "import requests\n",
    "from bs4 import BeautifulSoup"
   ]
  },
  {
   "cell_type": "code",
   "execution_count": null,
   "metadata": {},
   "outputs": [],
   "source": [
    "# BBC\n",
    "url = \"http://feeds.bbci.co.uk/news/world/us_and_canada/rss.xml\"\n",
    "rss = feedparser.parse(url)\n",
    "\n",
    "print(f'Feed Title: {rss.feed.title}')\n",
    "print(f'Feed Description: {rss.feed.description}')\n",
    "print(f'Feed has {len(rss.entries)} entries.')\n",
    "\n",
    "entry = rss.entries[0]\n",
    "print(f'Latest news: {entry.title} - {entry.description} - {entry.link}')\n",
    "print('\\n---\\n')\n",
    "\n",
    "link = entry.link\n",
    "response = requests.get(link)\n",
    "\n",
    "# <main id=\"main-content\">\n",
    "# ...\n",
    "# <div data-component=\"text-block\">\n",
    "# ...\n",
    "# <p> ... </p>\n",
    "\n",
    "soup = BeautifulSoup(response.content, 'html.parser')\n",
    "main_content = soup.find(id='main-content')\n",
    "text_block_elements = main_content.find_all('div', attrs={'data-component': 'text-block'})\n",
    "article_paragraphs = [div.find('p').text.strip() for div in text_block_elements]\n",
    "article_text = '\\n'.join(article_paragraphs)\n",
    "\n",
    "print(article_text)"
   ]
  },
  {
   "cell_type": "code",
   "execution_count": null,
   "metadata": {},
   "outputs": [],
   "source": [
    "# CNN\n",
    "url = \"http://rss.cnn.com/rss/cnn_us.rss\"\n",
    "rss = feedparser.parse(url)\n",
    "\n",
    "print(f'Feed Title: {rss.feed.title}')\n",
    "print(f'Feed Description: {rss.feed.description}')\n",
    "print(f'Feed has {len(rss.entries)} entries.')\n",
    "\n",
    "entry = rss.entries[0]\n",
    "print(f'Latest news: {entry.title} - {entry.description} - {entry.link}')\n",
    "print('\\n---\\n')\n",
    "\n",
    "link = entry.link\n",
    "response = requests.get(link)\n",
    "\n",
    "soup = BeautifulSoup(response.content, 'html.parser')\n",
    "article_main = soup.find('main', class_='article__main')\n",
    "article_paragraphs = article_main.find_all('p', class_='paragraph')\n",
    "article_paragraphs = [p.text.strip() for p in article_paragraphs]\n",
    "article_text = '\\n'.join(article_paragraphs)\n",
    "\n",
    "print(article_text)"
   ]
  },
  {
   "cell_type": "code",
   "execution_count": null,
   "metadata": {},
   "outputs": [],
   "source": [
    "# Fox News\n",
    "url = \"http://moxie.foxnews.com/google-publisher/latest.xml\"\n",
    "rss = feedparser.parse(url)\n",
    "\n",
    "print(f'Feed Title: {rss.feed.title}')\n",
    "print(f'Feed Description: {rss.feed.description}')\n",
    "print(f'Feed has {len(rss.entries)} entries.')\n",
    "\n",
    "entry = rss.entries[0]\n",
    "print(f'Latest news: {entry.title} - {entry.description} - {entry.link}')\n",
    "print('\\n---\\n')\n",
    "\n",
    "link = entry.link\n",
    "response = requests.get(link)\n",
    "\n",
    "# <div class=\"article-body\">\n",
    "# ...\n",
    "# <p> ... </p>\n",
    "# Note: this manually ignores a bunch of cruft that is put in the middle of the articles\n",
    "\n",
    "soup = BeautifulSoup(response.content, 'html.parser')\n",
    "article_body = soup.find('div', class_='article-body')\n",
    "article_paragraphs = [p.text.strip() for p in article_body.find_all('p') if not p.find_parent('div', class_=['caption', 'author-bio'])]\n",
    "article_paragraphs = [p for p in article_paragraphs if not p.isupper()] # Fox inserts annoying links to other articles in the middle... but they are all upper case.\n",
    "article_text = '\\n'.join(article_paragraphs)\n",
    "print(article_text)"
   ]
  },
  {
   "cell_type": "code",
   "execution_count": null,
   "metadata": {},
   "outputs": [],
   "source": [
    "# Seattle Times\n",
    "url = \"http://www.seattletimes.com/nation-world/feed/\"\n",
    "rss = feedparser.parse(url) # timing out?\n",
    "\n",
    "print(f'Feed Title: {rss.feed.title}')\n",
    "print(f'Feed Description: {rss.feed.description}')\n",
    "print(f'Feed has {len(rss.entries)} entries.')\n",
    "\n",
    "entry = rss.entries[0]\n",
    "print(f'Latest news: {entry.title} - {entry.description} - {entry.link}')\n",
    "print('\\n---\\n')\n",
    "\n",
    "link = entry.link\n",
    "response = requests.get(link)\n",
    "\n",
    "soup = BeautifulSoup(response.content, 'html.parser')\n",
    "print(soup.prettify()) # Blocked"
   ]
  },
  {
   "cell_type": "code",
   "execution_count": null,
   "metadata": {},
   "outputs": [],
   "source": [
    "# New York Times\n",
    "url = \"http://rss.nytimes.com/services/xml/rss/nyt/US.xml\"\n",
    "rss = feedparser.parse(url)\n",
    "\n",
    "print(f'Feed Title: {rss.feed.title}')\n",
    "print(f'Feed Description: {rss.feed.description}')\n",
    "print(f'Feed has {len(rss.entries)} entries.')\n",
    "\n",
    "entry = rss.entries[0]\n",
    "print(f'Latest news: {entry.title} - {entry.description} - {entry.link}')\n",
    "print('\\n---\\n')\n",
    "\n",
    "link = entry.link\n",
    "response = requests.get(link)\n",
    "\n",
    "soup = BeautifulSoup(response.content, 'html.parser')\n",
    "print(soup.prettify()) # Blocked"
   ]
  }
 ],
 "metadata": {
  "kernelspec": {
   "display_name": ".venv",
   "language": "python",
   "name": "python3"
  },
  "language_info": {
   "codemirror_mode": {
    "name": "ipython",
    "version": 3
   },
   "file_extension": ".py",
   "mimetype": "text/x-python",
   "name": "python",
   "nbconvert_exporter": "python",
   "pygments_lexer": "ipython3",
   "version": "3.11.3"
  },
  "orig_nbformat": 4
 },
 "nbformat": 4,
 "nbformat_minor": 2
}
