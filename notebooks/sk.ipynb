{
 "cells": [
  {
   "cell_type": "code",
   "execution_count": null,
   "metadata": {},
   "outputs": [],
   "source": [
    "# https://github.com/microsoft/semantic-kernel/tree/main/python\n",
    "\n",
    "import semantic_kernel as sk\n",
    "from semantic_kernel.connectors.ai.open_ai import OpenAIChatCompletion\n",
    "from utils.print_logger import PrintLogger, LogLevel\n",
    "\n",
    "kernel = sk.Kernel(log=PrintLogger(LogLevel.Error))\n",
    "\n",
    "api_key, _ = sk.openai_settings_from_dot_env()\n",
    "kernel.config.add_text_completion_service(\"gpt-turbo\", OpenAIChatCompletion(\"gpt-3.5-turbo\", api_key))\n",
    "\n",
    "print('Semantic Kernel is configured and ready to rock!')"
   ]
  },
  {
   "cell_type": "code",
   "execution_count": null,
   "metadata": {},
   "outputs": [],
   "source": [
    "# Load the \"Fun\" Skill from the directory and use it to tell a joke\n",
    "funFunctions = kernel.import_semantic_skill_from_directory(\"skills\", \"FunSkill\")\n",
    "jokeFunction = funFunctions[\"Joke\"]\n",
    "\n",
    "result = jokeFunction(\"the joys of being a father to a toddler\")\n",
    "print(result)"
   ]
  },
  {
   "cell_type": "code",
   "execution_count": null,
   "metadata": {},
   "outputs": [],
   "source": [
    "# Create a skill function inline - use a context variable to populate the prompt\n",
    "prompt = \"\"\"\n",
    "Add these two numbers together.\n",
    "\n",
    "{{$prevNumber}} + {{$input}} =\n",
    "\"\"\"\n",
    "\n",
    "number_function = kernel.create_semantic_function(prompt, \"AdderSkill\", max_tokens=64, temperature=0.0)\n",
    "\n",
    "context_variables = sk.ContextVariables()\n",
    "context_variables['prevNumber'] = \"42\"\n",
    "result = number_function.invoke(\"1\", variables=context_variables)\n",
    "print(result)"
   ]
  },
  {
   "cell_type": "code",
   "execution_count": null,
   "metadata": {},
   "outputs": [],
   "source": [
    "# There is not documentation about Python native functions right now.\n",
    "# So I'm cobbling this together from PRs and issues on the repo.\n",
    "\n",
    "nativeFunctions = kernel.import_native_skill_from_directory(\"skills\", \"GenerateNumber\")\n",
    "randomFunction = nativeFunctions[\"Random\"]\n",
    "result = randomFunction.invoke(input=\"10\")\n",
    "print(result)"
   ]
  }
 ],
 "metadata": {
  "kernelspec": {
   "display_name": ".venv",
   "language": "python",
   "name": "python3"
  },
  "language_info": {
   "codemirror_mode": {
    "name": "ipython",
    "version": 3
   },
   "file_extension": ".py",
   "mimetype": "text/x-python",
   "name": "python",
   "nbconvert_exporter": "python",
   "pygments_lexer": "ipython3",
   "version": "3.11.3"
  },
  "orig_nbformat": 4
 },
 "nbformat": 4,
 "nbformat_minor": 2
}
