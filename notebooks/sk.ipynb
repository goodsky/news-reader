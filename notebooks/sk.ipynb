{
 "cells": [
  {
   "cell_type": "code",
   "execution_count": 1,
   "metadata": {},
   "outputs": [
    {
     "name": "stdout",
     "output_type": "stream",
     "text": [
      "Semantic Kernel is configured and ready to rock!\n"
     ]
    }
   ],
   "source": [
    "# https://github.com/microsoft/semantic-kernel/tree/main/python\n",
    "\n",
    "import semantic_kernel as sk\n",
    "from semantic_kernel.connectors.ai.open_ai import OpenAIChatCompletion\n",
    "from print_logger import PrintLogger, LogLevel\n",
    "\n",
    "kernel = sk.Kernel(log=PrintLogger(LogLevel.Error))\n",
    "\n",
    "api_key, _ = sk.openai_settings_from_dot_env()\n",
    "kernel.config.add_text_completion_service(\"gpt-turbo\", OpenAIChatCompletion(\"gpt-3.5-turbo\", api_key))\n",
    "\n",
    "print('Semantic Kernel is configured and ready to rock!')"
   ]
  },
  {
   "cell_type": "code",
   "execution_count": 2,
   "metadata": {},
   "outputs": [
    {
     "name": "stdout",
     "output_type": "stream",
     "text": [
      "Why did the toddler refuse to take a nap?\n",
      "Because sleep is for the weak and they have a whole world to explore!\n"
     ]
    }
   ],
   "source": [
    "# Load the \"Fun\" Skill from the directory and use it to tell a joke\n",
    "funFunctions = kernel.import_semantic_skill_from_directory(\"skills\", \"FunSkill\")\n",
    "jokeFunction = funFunctions[\"Joke\"]\n",
    "\n",
    "result = jokeFunction(\"the joys of being a father to a toddler\")\n",
    "print(result)"
   ]
  },
  {
   "cell_type": "code",
   "execution_count": 3,
   "metadata": {},
   "outputs": [
    {
     "name": "stdout",
     "output_type": "stream",
     "text": [
      "43\n"
     ]
    }
   ],
   "source": [
    "# Create a skill function inline - use a context variable to populate the prompt\n",
    "prompt = \"\"\"\n",
    "Add these two numbers together.\n",
    "\n",
    "{{$prevNumber}} + {{$input}} =\n",
    "\"\"\"\n",
    "\n",
    "number_function = kernel.create_semantic_function(prompt, \"AdderSkill\", max_tokens=64, temperature=0.0)\n",
    "\n",
    "context_variables = sk.ContextVariables()\n",
    "context_variables['prevNumber'] = \"42\"\n",
    "result = number_function.invoke(\"1\", variables=context_variables)\n",
    "print(result)"
   ]
  },
  {
   "cell_type": "code",
   "execution_count": 10,
   "metadata": {},
   "outputs": [
    {
     "ename": "TypeError",
     "evalue": "SKFunction._invoke_semantic_async() missing 1 required positional argument: 'settings'",
     "output_type": "error",
     "traceback": [
      "\u001b[1;31m---------------------------------------------------------------------------\u001b[0m",
      "\u001b[1;31mTypeError\u001b[0m                                 Traceback (most recent call last)",
      "Cell \u001b[1;32mIn[10], line 7\u001b[0m\n\u001b[0;32m      4\u001b[0m nativeFunctions \u001b[39m=\u001b[39m kernel\u001b[39m.\u001b[39mimport_native_skill_from_directory(\u001b[39m\"\u001b[39m\u001b[39mskills\u001b[39m\u001b[39m\"\u001b[39m, \u001b[39m\"\u001b[39m\u001b[39mGenerateNumber\u001b[39m\u001b[39m\"\u001b[39m)\n\u001b[0;32m      5\u001b[0m randomFunction \u001b[39m=\u001b[39m nativeFunctions[\u001b[39m\"\u001b[39m\u001b[39mRandom\u001b[39m\u001b[39m\"\u001b[39m]\n\u001b[1;32m----> 7\u001b[0m result \u001b[39m=\u001b[39m randomFunction(\u001b[39m\"\u001b[39;49m\u001b[39m10\u001b[39;49m\u001b[39m\"\u001b[39;49m)\n\u001b[0;32m      8\u001b[0m \u001b[39mprint\u001b[39m(result)\n",
      "File \u001b[1;32md:\\Code\\git\\news-reader\\.venv\\Lib\\site-packages\\semantic_kernel\\orchestration\\sk_function.py:262\u001b[0m, in \u001b[0;36mSKFunction.__call__\u001b[1;34m(self, input, variables, context, memory, settings, log)\u001b[0m\n\u001b[0;32m    253\u001b[0m \u001b[39mdef\u001b[39;00m \u001b[39m__call__\u001b[39m(\n\u001b[0;32m    254\u001b[0m     \u001b[39mself\u001b[39m,\n\u001b[0;32m    255\u001b[0m     \u001b[39minput\u001b[39m: Optional[\u001b[39mstr\u001b[39m] \u001b[39m=\u001b[39m \u001b[39mNone\u001b[39;00m,\n\u001b[1;32m   (...)\u001b[0m\n\u001b[0;32m    260\u001b[0m     log: Optional[Logger] \u001b[39m=\u001b[39m \u001b[39mNone\u001b[39;00m,\n\u001b[0;32m    261\u001b[0m ) \u001b[39m-\u001b[39m\u001b[39m>\u001b[39m SKContext:\n\u001b[1;32m--> 262\u001b[0m     \u001b[39mreturn\u001b[39;00m \u001b[39mself\u001b[39;49m\u001b[39m.\u001b[39;49minvoke(\n\u001b[0;32m    263\u001b[0m         \u001b[39minput\u001b[39;49m\u001b[39m=\u001b[39;49m\u001b[39minput\u001b[39;49m,\n\u001b[0;32m    264\u001b[0m         variables\u001b[39m=\u001b[39;49mvariables,\n\u001b[0;32m    265\u001b[0m         context\u001b[39m=\u001b[39;49mcontext,\n\u001b[0;32m    266\u001b[0m         memory\u001b[39m=\u001b[39;49mmemory,\n\u001b[0;32m    267\u001b[0m         settings\u001b[39m=\u001b[39;49msettings,\n\u001b[0;32m    268\u001b[0m         log\u001b[39m=\u001b[39;49mlog,\n\u001b[0;32m    269\u001b[0m     )\n",
      "File \u001b[1;32md:\\Code\\git\\news-reader\\.venv\\Lib\\site-packages\\semantic_kernel\\orchestration\\sk_function.py:310\u001b[0m, in \u001b[0;36mSKFunction.invoke\u001b[1;34m(self, input, variables, context, memory, settings, log)\u001b[0m\n\u001b[0;32m    308\u001b[0m         \u001b[39mreturn\u001b[39;00m \u001b[39mself\u001b[39m\u001b[39m.\u001b[39m_runThread(\u001b[39mself\u001b[39m\u001b[39m.\u001b[39m_invoke_semantic_async(context, settings))\n\u001b[0;32m    309\u001b[0m     \u001b[39melse\u001b[39;00m:\n\u001b[1;32m--> 310\u001b[0m         \u001b[39mreturn\u001b[39;00m \u001b[39mself\u001b[39m\u001b[39m.\u001b[39m_runThread(\u001b[39mself\u001b[39;49m\u001b[39m.\u001b[39;49m_invoke_semantic_async(context))\n\u001b[0;32m    311\u001b[0m \u001b[39melse\u001b[39;00m:\n\u001b[0;32m    312\u001b[0m     \u001b[39mif\u001b[39;00m \u001b[39mself\u001b[39m\u001b[39m.\u001b[39mis_semantic:\n",
      "\u001b[1;31mTypeError\u001b[0m: SKFunction._invoke_semantic_async() missing 1 required positional argument: 'settings'"
     ]
    }
   ],
   "source": [
    "# There is not documentation about Python native functions right now.\n",
    "# So I'm cobbling this together from PRs and issues on the repo.\n",
    "\n",
    "nativeFunctions = kernel.import_native_skill_from_directory(\"skills\", \"GenerateNumber\")\n",
    "randomFunction = nativeFunctions[\"Random\"]\n",
    "\n",
    "result = randomFunction.invoke(input=\"10\")\n",
    "print(result)"
   ]
  }
 ],
 "metadata": {
  "kernelspec": {
   "display_name": ".venv",
   "language": "python",
   "name": "python3"
  },
  "language_info": {
   "codemirror_mode": {
    "name": "ipython",
    "version": 3
   },
   "file_extension": ".py",
   "mimetype": "text/x-python",
   "name": "python",
   "nbconvert_exporter": "python",
   "pygments_lexer": "ipython3",
   "version": "3.11.3"
  },
  "orig_nbformat": 4
 },
 "nbformat": 4,
 "nbformat_minor": 2
}
